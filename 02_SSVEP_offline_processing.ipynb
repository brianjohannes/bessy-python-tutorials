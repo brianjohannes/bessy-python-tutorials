{
 "cells": [
  {
   "attachments": {},
   "cell_type": "markdown",
   "metadata": {},
   "source": [
    "# SSVEP Offline Processing\n",
    "\n",
    "Welcome to this tutorial on processing Steady-State Visual Evoked \n",
    "Potentials (SSVEP)!"
   ]
  }
 ],
 "metadata": {
  "language_info": {
   "name": "python"
  },
  "orig_nbformat": 4
 },
 "nbformat": 4,
 "nbformat_minor": 2
}
